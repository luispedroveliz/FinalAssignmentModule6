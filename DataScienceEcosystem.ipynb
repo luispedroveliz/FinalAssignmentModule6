{
  "metadata": {
    "kernelspec": {
      "name": "python",
      "display_name": "Python (Pyodide)",
      "language": "python"
    },
    "language_info": {
      "codemirror_mode": {
        "name": "python",
        "version": 3
      },
      "file_extension": ".py",
      "mimetype": "text/x-python",
      "name": "python",
      "nbconvert_exporter": "python",
      "pygments_lexer": "ipython3",
      "version": "3.8"
    }
  },
  "nbformat_minor": 5,
  "nbformat": 4,
  "cells": [
    {
      "id": "4a6663a4-b0ab-4d25-8c31-b5af274f0731",
      "cell_type": "markdown",
      "source": "# Data Science Tools and Ecosystem",
      "metadata": {}
    },
    {
      "id": "430d7c3b-5bec-49f1-aa53-f5b313b1bea6",
      "cell_type": "markdown",
      "source": "In this notebook, Data Science Tools and Ecosystem are summarized.",
      "metadata": {}
    },
    {
      "id": "96575227-0eee-47e1-8482-c41ea2fce506",
      "cell_type": "markdown",
      "source": "**Objectives:**\n- List popular languages for Data Science\n- List commonly used libraries by Data Scientists\n- Creating a table list of Data Science Tools\n- Provide a few examples of arithmetic expressions in Python",
      "metadata": {}
    },
    {
      "id": "056c6954-6d7a-4144-8140-b6011c59f022",
      "cell_type": "markdown",
      "source": "Some of the popular languages that Data Scientists use are:\n1. Python\n2. R\n3. SQL\n4. Scala\n5. Julia ",
      "metadata": {}
    },
    {
      "id": "182783d2-81b2-409b-80fa-e15c9645e210",
      "cell_type": "markdown",
      "source": "Some of the commonly used libraries used by Data Scientists include: \n1. NumPy\n2. Pandas\n3. Matplotlib",
      "metadata": {}
    },
    {
      "id": "930fdaf2-05b3-4199-895f-557b929c8dae",
      "cell_type": "markdown",
      "source": "| Data Science Tools |\n|--------------------|\n| pandas |\n| Hadoop | \n| Spark | ",
      "metadata": {}
    },
    {
      "id": "4d8c8f39-f353-4179-9af1-7e62cf3e6073",
      "cell_type": "markdown",
      "source": "### Below are a few examples of evaluating arithmetic expressions in Python ",
      "metadata": {}
    },
    {
      "id": "ab882463-a629-4333-b7b1-09f804f3efb6",
      "cell_type": "markdown",
      "source": "This a simple arithmetic expression to mutiply then add integers",
      "metadata": {}
    },
    {
      "id": "c0946472-a52c-415d-8ee0-147fee9b252f",
      "cell_type": "code",
      "source": "(3*4)+5",
      "metadata": {
        "trusted": true
      },
      "outputs": [
        {
          "execution_count": 2,
          "output_type": "execute_result",
          "data": {
            "text/plain": "17"
          },
          "metadata": {}
        }
      ],
      "execution_count": 2
    },
    {
      "id": "931a220c-eb35-4ec7-a3d4-ac8e93244297",
      "cell_type": "markdown",
      "source": "This will convert 200 minutes to hours by diving by 60",
      "metadata": {}
    },
    {
      "id": "15e15502-e00d-4092-85f3-fdc16ce6fb92",
      "cell_type": "code",
      "source": "200 / 60",
      "metadata": {
        "trusted": true
      },
      "outputs": [
        {
          "execution_count": 7,
          "output_type": "execute_result",
          "data": {
            "text/plain": "3.3333333333333335"
          },
          "metadata": {}
        }
      ],
      "execution_count": 7
    },
    {
      "id": "7302fa8c-7f40-4588-967c-82486a634ce5",
      "cell_type": "markdown",
      "source": "## Author \nLuis Pedro Véliz ",
      "metadata": {}
    },
    {
      "id": "f0dc5c0c-2211-4e2e-805b-dbc1edec633a",
      "cell_type": "code",
      "source": "",
      "metadata": {
        "trusted": true
      },
      "outputs": [],
      "execution_count": null
    }
  ]
}